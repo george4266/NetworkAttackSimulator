{
 "cells": [
  {
   "cell_type": "code",
   "execution_count": 8,
   "id": "db4be546",
   "metadata": {},
   "outputs": [],
   "source": [
    "import yaml\n",
    "from yaml.loader import SafeLoader, BaseLoader, FullLoader, UnsafeLoader"
   ]
  },
  {
   "cell_type": "code",
   "execution_count": 9,
   "id": "426ff93f",
   "metadata": {},
   "outputs": [],
   "source": [
    "filepath = 'nasim/scenarios/benchmark/tiny.yaml'\n",
    "with open(filepath, \"r\") as stream:\n",
    "    try:\n",
    "        curr_data = (yaml.safe_load(stream))\n",
    "    except yaml.YAMLError as exc:\n",
    "        print(exc)"
   ]
  },
  {
   "cell_type": "code",
   "execution_count": 10,
   "id": "77ebd354",
   "metadata": {},
   "outputs": [
    {
     "name": "stdout",
     "output_type": "stream",
     "text": [
      "{'subnets': [1, 1, 1], 'topology': [[1, 1, 0, 0], [1, 1, 1, 1], [0, 1, 1, 1], [0, 1, 1, 1]], 'sensitive_hosts': {'(2, 0)': 100, '(3, 0)': 100}, 'os': ['linux'], 'services': ['ssh'], 'processes': ['tomcat'], 'exploits': {'e_ssh': {'service': 'ssh', 'os': 'linux', 'prob': 0.8, 'cost': 1, 'access': 'user'}}, 'privilege_escalation': {'pe_tomcat': {'process': 'tomcat', 'os': 'linux', 'prob': 1.0, 'cost': 1, 'access': 'root'}}, 'service_scan_cost': 1, 'os_scan_cost': 1, 'subnet_scan_cost': 1, 'process_scan_cost': 1, 'host_configurations': {'(1, 0)': {'os': 'linux', 'services': ['ssh'], 'processes': ['tomcat'], 'firewall': {'(3, 0)': ['ssh']}}, '(2, 0)': {'os': 'linux', 'services': ['ssh'], 'processes': ['tomcat'], 'firewall': {'(1, 0)': ['ssh']}}, '(3, 0)': {'os': 'linux', 'services': ['ssh'], 'processes': ['tomcat']}}, 'firewall': {'(0, 1)': ['ssh'], '(1, 0)': [], '(1, 2)': [], '(2, 1)': ['ssh'], '(1, 3)': ['ssh'], '(3, 1)': ['ssh'], '(2, 3)': ['ssh'], '(3, 2)': ['ssh']}, 'step_limit': 1000}\n"
     ]
    }
   ],
   "source": [
    "#Print out representation of yaml data\n",
    "print(curr_data)"
   ]
  },
  {
   "cell_type": "code",
   "execution_count": 11,
   "id": "bfe2b846",
   "metadata": {},
   "outputs": [],
   "source": [
    "#Edited the add subnet function to also update topology\n",
    "def add_new_subnet(numOfHosts):\n",
    "    curr_data['subnets'].append(numOfHosts)\n",
    "    for i in range(0, len(curr_data['topology'])):\n",
    "        curr_data['topology'][i].append(0)\n",
    "    newRow = []\n",
    "    for i in range(0, len(curr_data['topology'][0])):\n",
    "        newRow.append(0)\n",
    "    curr_data['topology'].append(newRow)\n",
    "    \n",
    "#Edited the add host function to also update both subnets and topology\n",
    "def add_new_host_config(x, y, os, services, processes):\n",
    "    address = '(' + str(x) + ', ' + str(y) + ')'\n",
    "    curr_data['host_configurations'][address] = {'os': os, 'services': services, 'processes': processes}\n",
    "    \n",
    "    if x > len(curr_data['subnets']) - 1:\n",
    "        add_new_subnet(1)\n",
    "    elif y > curr_data['subnets'][x]:\n",
    "        curr_data['subnets'][x] = curr_data['subnets'][x] + 1"
   ]
  },
  {
   "cell_type": "code",
   "execution_count": 12,
   "id": "10c4135e",
   "metadata": {},
   "outputs": [],
   "source": [
    "#Edited the add subnet function to also update topology\n",
    "def remove_subnet(subnetAddress):\n",
    "    del curr_data['subnets'][subnetAddress]\n",
    "    lenTop = len(curr_data['topology'])\n",
    "    curr_data['topology'].remove(curr_data['topology'][lenTop - 1])\n",
    "    lenRow = len(curr_data['topology'][0])\n",
    "    for i in range(0, lenTop - 1):\n",
    "        curr_data['topology'][i].remove(curr_data['topology'][i][lenRow - 1])\n",
    "\n",
    "#Edited the remove host function to also update both subnets and topology\n",
    "def remove_host_config(x, y):\n",
    "    address = '(' + str(x) + ', ' + str(y) + ')'\n",
    "    if curr_data['subnets'][x - 1] == 1:\n",
    "        remove_subnet(x - 1)\n",
    "    else:\n",
    "        curr_data['subnets'][x - 1] -= 1\n",
    "    \n",
    "    del curr_data['host_configurations'][address]"
   ]
  },
  {
   "cell_type": "code",
   "execution_count": 13,
   "id": "09a5da2e",
   "metadata": {},
   "outputs": [],
   "source": [
    "#Allows for existing topology values to be updated\n",
    "def edit_topology(x, y, value):\n",
    "    curr_data['topology'][x][y] = value"
   ]
  },
  {
   "cell_type": "code",
   "execution_count": 14,
   "id": "50716045",
   "metadata": {},
   "outputs": [
    {
     "name": "stdout",
     "output_type": "stream",
     "text": [
      "[[1, 1, 0, 0], [1, 1, 1, 1], [0, 1, 1, 1], [0, 1, 1, 1]]\n"
     ]
    }
   ],
   "source": [
    "print(curr_data['topology'])"
   ]
  },
  {
   "cell_type": "code",
   "execution_count": 15,
   "id": "afd6c2df",
   "metadata": {},
   "outputs": [],
   "source": [
    "edit_topology(0, 2, 1)"
   ]
  },
  {
   "cell_type": "code",
   "execution_count": 16,
   "id": "857b4584",
   "metadata": {},
   "outputs": [
    {
     "name": "stdout",
     "output_type": "stream",
     "text": [
      "[[1, 1, 1, 0], [1, 1, 1, 1], [0, 1, 1, 1], [0, 1, 1, 1]]\n"
     ]
    }
   ],
   "source": [
    "print(curr_data['topology'])"
   ]
  },
  {
   "cell_type": "code",
   "execution_count": 21,
   "id": "541172a6",
   "metadata": {},
   "outputs": [
    {
     "name": "stdout",
     "output_type": "stream",
     "text": [
      "{'(1, 0)': {'os': 'linux', 'services': ['ssh'], 'processes': ['tomcat'], 'firewall': {'(3, 0)': ['ssh']}}, '(2, 0)': {'os': 'linux', 'services': ['ssh'], 'processes': ['tomcat'], 'firewall': {'(1, 0)': ['ssh']}}, '(3, 0)': {'os': 'linux', 'services': ['ssh'], 'processes': ['tomcat']}}\n",
      "[1, 1, 1]\n",
      "[[1, 1, 1, 0], [1, 1, 1, 1], [0, 1, 1, 1], [0, 1, 1, 1]]\n"
     ]
    }
   ],
   "source": [
    "print(curr_data['host_configurations'])\n",
    "print(curr_data['subnets'])\n",
    "print(curr_data['topology'])"
   ]
  },
  {
   "cell_type": "code",
   "execution_count": 22,
   "id": "54a1e67b",
   "metadata": {},
   "outputs": [],
   "source": [
    "remove_host_config(3, 0)"
   ]
  },
  {
   "cell_type": "code",
   "execution_count": 23,
   "id": "19f3b722",
   "metadata": {},
   "outputs": [
    {
     "name": "stdout",
     "output_type": "stream",
     "text": [
      "{'(1, 0)': {'os': 'linux', 'services': ['ssh'], 'processes': ['tomcat'], 'firewall': {'(3, 0)': ['ssh']}}, '(2, 0)': {'os': 'linux', 'services': ['ssh'], 'processes': ['tomcat'], 'firewall': {'(1, 0)': ['ssh']}}}\n",
      "[1, 1]\n",
      "[[1, 1, 1], [1, 1, 1], [0, 1, 1]]\n"
     ]
    }
   ],
   "source": [
    "print(curr_data['host_configurations'])\n",
    "print(curr_data['subnets'])\n",
    "print(curr_data['topology'])"
   ]
  },
  {
   "cell_type": "code",
   "execution_count": 24,
   "id": "714b60c4",
   "metadata": {},
   "outputs": [],
   "source": [
    "add_new_host_config(3, 0, 'linux', ['ssh'], ['tomcat'])"
   ]
  },
  {
   "cell_type": "code",
   "execution_count": 25,
   "id": "d32989cf",
   "metadata": {},
   "outputs": [
    {
     "name": "stdout",
     "output_type": "stream",
     "text": [
      "{'(1, 0)': {'os': 'linux', 'services': ['ssh'], 'processes': ['tomcat'], 'firewall': {'(3, 0)': ['ssh']}}, '(2, 0)': {'os': 'linux', 'services': ['ssh'], 'processes': ['tomcat'], 'firewall': {'(1, 0)': ['ssh']}}, '(3, 0)': {'os': 'linux', 'services': ['ssh'], 'processes': ['tomcat']}}\n",
      "[1, 1, 1]\n",
      "[[1, 1, 1, 0], [1, 1, 1, 0], [0, 1, 1, 0], [0, 0, 0, 0]]\n"
     ]
    }
   ],
   "source": [
    "#When adding a new host, topologies are updated by adding 0's to the end of each layer(last index of each row)\n",
    "\n",
    "print(curr_data['host_configurations'])\n",
    "print(curr_data['subnets'])\n",
    "print(curr_data['topology'])"
   ]
  },
  {
   "cell_type": "code",
   "execution_count": null,
   "id": "3363c0e2",
   "metadata": {},
   "outputs": [],
   "source": []
  }
 ],
 "metadata": {
  "kernelspec": {
   "display_name": "Python 3",
   "language": "python",
   "name": "python3"
  },
  "language_info": {
   "codemirror_mode": {
    "name": "ipython",
    "version": 3
   },
   "file_extension": ".py",
   "mimetype": "text/x-python",
   "name": "python",
   "nbconvert_exporter": "python",
   "pygments_lexer": "ipython3",
   "version": "3.8.8"
  }
 },
 "nbformat": 4,
 "nbformat_minor": 5
}
