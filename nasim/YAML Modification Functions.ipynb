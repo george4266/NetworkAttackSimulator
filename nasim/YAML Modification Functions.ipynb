{
 "cells": [
  {
   "cell_type": "code",
   "execution_count": 48,
   "id": "ebdb04d9",
   "metadata": {},
   "outputs": [],
   "source": [
    "#Import yaml and various ways to load in the data from the yaml file\n",
    "\n",
    "import yaml\n",
    "from yaml.loader import SafeLoader, BaseLoader, FullLoader, UnsafeLoader"
   ]
  },
  {
   "cell_type": "code",
   "execution_count": 49,
   "id": "880423aa",
   "metadata": {},
   "outputs": [],
   "source": [
    "#Load in data from yaml file using a safe load\n",
    "\n",
    "filepath = 'NetworkAttackSimulator/nasim/scenarios/benchmark/tiny.yaml'\n",
    "with open(filepath, \"r\") as stream:\n",
    "    try:\n",
    "        curr_data = (yaml.safe_load(stream))\n",
    "    except yaml.YAMLError as exc:\n",
    "        print(exc)"
   ]
  },
  {
   "cell_type": "code",
   "execution_count": 50,
   "id": "17b373a6",
   "metadata": {},
   "outputs": [
    {
     "name": "stdout",
     "output_type": "stream",
     "text": [
      "{'subnets': [1, 1, 1], 'topology': [[1, 1, 0, 0], [1, 1, 1, 1], [0, 1, 1, 1], [0, 1, 1, 1]], 'sensitive_hosts': {'(2, 0)': 100, '(3, 0)': 100}, 'os': ['linux'], 'services': ['ssh'], 'processes': ['tomcat'], 'exploits': {'e_ssh': {'service': 'ssh', 'os': 'linux', 'prob': 0.8, 'cost': 1, 'access': 'user'}}, 'privilege_escalation': {'pe_tomcat': {'process': 'tomcat', 'os': 'linux', 'prob': 1.0, 'cost': 1, 'access': 'root'}}, 'service_scan_cost': 1, 'os_scan_cost': 1, 'subnet_scan_cost': 1, 'process_scan_cost': 1, 'host_configurations': {'(1, 0)': {'os': 'linux', 'services': ['ssh'], 'processes': ['tomcat'], 'firewall': {'(3, 0)': ['ssh']}}, '(2, 0)': {'os': 'linux', 'services': ['ssh'], 'processes': ['tomcat'], 'firewall': {'(1, 0)': ['ssh']}}, '(3, 0)': {'os': 'linux', 'services': ['ssh'], 'processes': ['tomcat']}}, 'firewall': {'(0, 1)': ['ssh'], '(1, 0)': [], '(1, 2)': [], '(2, 1)': ['ssh'], '(1, 3)': ['ssh'], '(3, 1)': ['ssh'], '(2, 3)': ['ssh'], '(3, 2)': ['ssh']}, 'step_limit': 1000}\n"
     ]
    }
   ],
   "source": [
    "#Print out representation of yaml data\n",
    "print(curr_data)"
   ]
  },
  {
   "cell_type": "markdown",
   "id": "a4d48252",
   "metadata": {},
   "source": [
    "Adding Functions"
   ]
  },
  {
   "cell_type": "code",
   "execution_count": 51,
   "id": "f6662df6",
   "metadata": {},
   "outputs": [],
   "source": [
    "def add_new_subnet(numOfHosts):\n",
    "    curr_data['subnets'].append(numOfHosts)\n",
    "\n",
    "def add_new_topology(newTopology):\n",
    "    curr_data['topology'].append(newTopology)\n",
    "    \n",
    "def add_new_os(os):\n",
    "    if (len(curr_data['os'])) >= 1:\n",
    "        curr_data['os'].append(os)\n",
    "    else:\n",
    "        curr_data['os'] = [os]\n",
    "\n",
    "def add_new_process(process):\n",
    "    if (len(curr_data['processes'])) >= 1:\n",
    "        curr_data['processes'].append(process)\n",
    "    else:\n",
    "        curr_data['proceeses'] = [process]\n",
    "    \n",
    "def add_new_service(service):\n",
    "    if (len(curr_data['services'])) >= 1:\n",
    "        curr_data['services'].append(service)\n",
    "    else:\n",
    "        curr_data['services'] = [service]\n",
    "    \n",
    "def add_new_exploit(service, os, prob, cost, access):\n",
    "    curr_data['exploits']['e_' + service] = {'service': service, 'os': os, 'prob': prob, 'cost': cost, 'access': access}\n",
    "    \n",
    "def add_new_privilege(process, os, prob, cost, access):\n",
    "    curr_data['privilege_escalation']['pe_' + process] = {'process': process, 'os': os, 'prob': prob, 'cost': cost, 'access': access}\n",
    "    \n",
    "def add_new_firewall(x, y, services):\n",
    "    location = '(' + str(x) + ', ' + str(y) + ')'\n",
    "    curr_data['firewall'][location] = services\n",
    "    \n",
    "def add_new_sensitive_host(x, y, value):\n",
    "    location = '(' + str(x) + ', ' + str(y) + ')'\n",
    "    curr_data['sensitive_hosts'][location] = value\n",
    "    \n",
    "def add_new_host_config(x, y, os, services, processes):\n",
    "    location = '(' + str(x) + ', ' + str(y) + ')'\n",
    "    curr_data['host_configurations'][location] = {'os': os, 'services': services, 'processes': processes}\n",
    "    \n",
    "def add_new_scan_cost(keyword, cost):\n",
    "    curr_data[keyword + '_scan_cost'] = cost"
   ]
  },
  {
   "cell_type": "markdown",
   "id": "f7fdb189",
   "metadata": {},
   "source": [
    "Removing Functions"
   ]
  },
  {
   "cell_type": "code",
   "execution_count": 52,
   "id": "c656d03e",
   "metadata": {},
   "outputs": [],
   "source": [
    "def remove_subnet(subnetIndex):\n",
    "    del curr_data['subnets'][subnetIndex]\n",
    "    \n",
    "def remove_topology(topologyIndex):\n",
    "    del curr_data['topology'][topologyIndex]\n",
    "    \n",
    "def remove_os(os):\n",
    "    if os in curr_data['os']:\n",
    "        curr_data['os'].remove(os)\n",
    "        \n",
    "def remove_process(process):\n",
    "    if process in curr_data['processes']:\n",
    "        curr_data['processes'].remove(process)\n",
    "        \n",
    "def remove_service(service):\n",
    "    if service in curr_data['services']:\n",
    "        curr_data['os'].remove(service)\n",
    "        \n",
    "def remove_exploit(exploitName):\n",
    "    del curr_data['exploits'][exploitName]\n",
    "    \n",
    "def remove_privilege(privilegeName):\n",
    "    del curr_data['privilege_escalation'][privilegeName]\n",
    "    \n",
    "def remove_firewall(x, y):\n",
    "    location = '(' + str(x) + ', ' + str(y) + ')'\n",
    "    del curr_data['firewall'][location]\n",
    "    \n",
    "def remove_sensitive_host(x, y):\n",
    "    location = '(' + str(x) + ', ' + str(y) + ')'\n",
    "    del curr_data['sensitive_hosts'][location]\n",
    "    \n",
    "def remove_host_config(x, y):\n",
    "    location = '(' + str(x) + ', ' + str(y) + ')'\n",
    "    del curr_data['host_configurations'][location]\n",
    "    \n",
    "def remove_scan_cost(keyword):\n",
    "    del curr_data[keyword + '_scan_cost']"
   ]
  },
  {
   "cell_type": "markdown",
   "id": "2ce96433",
   "metadata": {},
   "source": [
    "Modifying Step Limit"
   ]
  },
  {
   "cell_type": "code",
   "execution_count": 53,
   "id": "13137ca4",
   "metadata": {},
   "outputs": [],
   "source": [
    "def set_step_limit(stepLimit):\n",
    "    curr_data['step_limit'] = stepLimit"
   ]
  },
  {
   "cell_type": "markdown",
   "id": "fbfb8c24",
   "metadata": {},
   "source": [
    "Writing Modifications to YAML"
   ]
  },
  {
   "cell_type": "code",
   "execution_count": 54,
   "id": "9cf6f275",
   "metadata": {},
   "outputs": [],
   "source": [
    "#Update a YAML file with modifications that have been added or removed. \n",
    "#In this case a new file(for testing) is created to contain the updated YAML data.\n",
    "\n",
    "testfile = 'data.yaml'\n",
    "\n",
    "def writeToYAML():\n",
    "    with open(testfile, 'w') as f:\n",
    "        data = yaml.dump(curr_data, f, sort_keys=False, default_flow_style=False)"
   ]
  },
  {
   "cell_type": "markdown",
   "id": "9fba3c33",
   "metadata": {},
   "source": [
    "Testing"
   ]
  },
  {
   "cell_type": "code",
   "execution_count": 55,
   "id": "5ed6577d",
   "metadata": {},
   "outputs": [
    {
     "name": "stdout",
     "output_type": "stream",
     "text": [
      "{'e_ssh': {'service': 'ssh', 'os': 'linux', 'prob': 0.8, 'cost': 1, 'access': 'user'}}\n"
     ]
    }
   ],
   "source": [
    "print(curr_data['exploits'])"
   ]
  },
  {
   "cell_type": "code",
   "execution_count": 56,
   "id": "8cf28c82",
   "metadata": {},
   "outputs": [],
   "source": [
    "add_new_exploit('http', 'windows', 0.4, 1, 'system')"
   ]
  },
  {
   "cell_type": "code",
   "execution_count": 57,
   "id": "a264bba9",
   "metadata": {},
   "outputs": [
    {
     "name": "stdout",
     "output_type": "stream",
     "text": [
      "{'e_ssh': {'service': 'ssh', 'os': 'linux', 'prob': 0.8, 'cost': 1, 'access': 'user'}, 'e_http': {'service': 'http', 'os': 'windows', 'prob': 0.4, 'cost': 1, 'access': 'system'}}\n"
     ]
    }
   ],
   "source": [
    "print(curr_data['exploits'])"
   ]
  },
  {
   "cell_type": "code",
   "execution_count": 58,
   "id": "f14ae435",
   "metadata": {},
   "outputs": [],
   "source": [
    "remove_exploit('e_ssh')"
   ]
  },
  {
   "cell_type": "code",
   "execution_count": 59,
   "id": "4e630fc5",
   "metadata": {},
   "outputs": [
    {
     "name": "stdout",
     "output_type": "stream",
     "text": [
      "{'e_http': {'service': 'http', 'os': 'windows', 'prob': 0.4, 'cost': 1, 'access': 'system'}}\n"
     ]
    }
   ],
   "source": [
    "print(curr_data['exploits'])"
   ]
  },
  {
   "cell_type": "code",
   "execution_count": 60,
   "id": "1ede28cd",
   "metadata": {},
   "outputs": [
    {
     "name": "stdout",
     "output_type": "stream",
     "text": [
      "['linux']\n"
     ]
    }
   ],
   "source": [
    "print(curr_data['os'])"
   ]
  },
  {
   "cell_type": "code",
   "execution_count": 61,
   "id": "48788eb0",
   "metadata": {},
   "outputs": [],
   "source": [
    "add_new_os('windows')"
   ]
  },
  {
   "cell_type": "code",
   "execution_count": 62,
   "id": "f32398de",
   "metadata": {},
   "outputs": [
    {
     "name": "stdout",
     "output_type": "stream",
     "text": [
      "['linux', 'windows']\n"
     ]
    }
   ],
   "source": [
    "print(curr_data['os'])"
   ]
  },
  {
   "cell_type": "code",
   "execution_count": 63,
   "id": "21dd6d56",
   "metadata": {},
   "outputs": [],
   "source": [
    "remove_os('linux')"
   ]
  },
  {
   "cell_type": "code",
   "execution_count": 64,
   "id": "6d2e9bb2",
   "metadata": {},
   "outputs": [
    {
     "name": "stdout",
     "output_type": "stream",
     "text": [
      "['windows']\n"
     ]
    }
   ],
   "source": [
    "print(curr_data['os'])"
   ]
  },
  {
   "cell_type": "code",
   "execution_count": 65,
   "id": "66dabf90",
   "metadata": {},
   "outputs": [
    {
     "name": "stdout",
     "output_type": "stream",
     "text": [
      "[1, 1, 1]\n"
     ]
    }
   ],
   "source": [
    "print(curr_data['subnets'])"
   ]
  },
  {
   "cell_type": "code",
   "execution_count": 66,
   "id": "d3774fcc",
   "metadata": {},
   "outputs": [],
   "source": [
    "add_new_subnet(5)"
   ]
  },
  {
   "cell_type": "code",
   "execution_count": 67,
   "id": "344f7949",
   "metadata": {},
   "outputs": [
    {
     "name": "stdout",
     "output_type": "stream",
     "text": [
      "[1, 1, 1, 5]\n"
     ]
    }
   ],
   "source": [
    "print(curr_data['subnets'])"
   ]
  },
  {
   "cell_type": "code",
   "execution_count": 68,
   "id": "d8b324b5",
   "metadata": {},
   "outputs": [],
   "source": [
    "remove_subnet(2)"
   ]
  },
  {
   "cell_type": "code",
   "execution_count": 69,
   "id": "ece13bdd",
   "metadata": {},
   "outputs": [
    {
     "name": "stdout",
     "output_type": "stream",
     "text": [
      "[1, 1, 5]\n"
     ]
    }
   ],
   "source": [
    "print(curr_data['subnets'])"
   ]
  },
  {
   "cell_type": "code",
   "execution_count": 70,
   "id": "79e9b715",
   "metadata": {},
   "outputs": [],
   "source": [
    "writeToYAML()"
   ]
  },
  {
   "cell_type": "code",
   "execution_count": 71,
   "id": "13271033",
   "metadata": {},
   "outputs": [
    {
     "data": {
      "text/plain": [
       "'\\nChange:\\nFirewall - Transition Probabilities \\nSubnet, Topology - State Space\\nExploits, Privilege Escalation - Action Space\\n'"
      ]
     },
     "execution_count": 71,
     "metadata": {},
     "output_type": "execute_result"
    }
   ],
   "source": [
    "\"\"\"\n",
    "Observing Change:\n",
    "Firewall - Transition Probabilities \n",
    "Subnet, Topology - State Space\n",
    "Exploits, Privilege Escalation - Action Space\n",
    "\"\"\""
   ]
  },
  {
   "cell_type": "code",
   "execution_count": null,
   "id": "cfff6ec7",
   "metadata": {},
   "outputs": [],
   "source": []
  },
  {
   "cell_type": "code",
   "execution_count": null,
   "id": "bacd9cbc",
   "metadata": {},
   "outputs": [],
   "source": []
  },
  {
   "cell_type": "code",
   "execution_count": null,
   "id": "97643ef7",
   "metadata": {},
   "outputs": [],
   "source": []
  },
  {
   "cell_type": "code",
   "execution_count": null,
   "id": "254d66a0",
   "metadata": {},
   "outputs": [],
   "source": []
  },
  {
   "cell_type": "code",
   "execution_count": null,
   "id": "c75f0de4",
   "metadata": {},
   "outputs": [],
   "source": []
  },
  {
   "cell_type": "code",
   "execution_count": null,
   "id": "edb16df6",
   "metadata": {},
   "outputs": [],
   "source": []
  },
  {
   "cell_type": "code",
   "execution_count": null,
   "id": "4d394df1",
   "metadata": {},
   "outputs": [],
   "source": []
  },
  {
   "cell_type": "code",
   "execution_count": null,
   "id": "206ea91a",
   "metadata": {},
   "outputs": [],
   "source": []
  },
  {
   "cell_type": "code",
   "execution_count": null,
   "id": "ce15dfd1",
   "metadata": {},
   "outputs": [],
   "source": []
  },
  {
   "cell_type": "code",
   "execution_count": null,
   "id": "07fcc705",
   "metadata": {},
   "outputs": [],
   "source": []
  },
  {
   "cell_type": "code",
   "execution_count": null,
   "id": "f94f39c1",
   "metadata": {},
   "outputs": [],
   "source": []
  },
  {
   "cell_type": "code",
   "execution_count": null,
   "id": "0d504e59",
   "metadata": {},
   "outputs": [],
   "source": []
  },
  {
   "cell_type": "code",
   "execution_count": null,
   "id": "5f1e9a8e",
   "metadata": {},
   "outputs": [],
   "source": []
  },
  {
   "cell_type": "code",
   "execution_count": null,
   "id": "9b061760",
   "metadata": {},
   "outputs": [],
   "source": []
  },
  {
   "cell_type": "code",
   "execution_count": null,
   "id": "079a8f9c",
   "metadata": {},
   "outputs": [],
   "source": []
  },
  {
   "cell_type": "code",
   "execution_count": null,
   "id": "01833bb6",
   "metadata": {},
   "outputs": [],
   "source": []
  },
  {
   "cell_type": "code",
   "execution_count": null,
   "id": "ee7aa430",
   "metadata": {},
   "outputs": [],
   "source": []
  },
  {
   "cell_type": "code",
   "execution_count": null,
   "id": "7ff52ddd",
   "metadata": {},
   "outputs": [],
   "source": []
  }
 ],
 "metadata": {
  "kernelspec": {
   "display_name": "Python 3",
   "language": "python",
   "name": "python3"
  },
  "language_info": {
   "codemirror_mode": {
    "name": "ipython",
    "version": 3
   },
   "file_extension": ".py",
   "mimetype": "text/x-python",
   "name": "python",
   "nbconvert_exporter": "python",
   "pygments_lexer": "ipython3",
   "version": "3.8.8"
  }
 },
 "nbformat": 4,
 "nbformat_minor": 5
}
